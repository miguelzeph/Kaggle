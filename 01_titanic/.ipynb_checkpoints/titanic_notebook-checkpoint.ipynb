{
 "cells": [
  {
   "cell_type": "markdown",
   "metadata": {},
   "source": [
    "#### Imports"
   ]
  },
  {
   "cell_type": "code",
   "execution_count": 1,
   "metadata": {},
   "outputs": [],
   "source": [
    "import pandas as pd\n",
    "import numpy as np\n",
    "import matplotlib.pyplot as plt\n",
    "import seaborn as sns\n",
    "import tensorflow as tf\n",
    "%matplotlib inline"
   ]
  },
  {
   "cell_type": "code",
   "execution_count": 2,
   "metadata": {},
   "outputs": [],
   "source": [
    "# Reading data\n",
    "dados = pd.read_csv('./train.csv')\n",
    "\n",
    "# Use at the end to compare\n",
    "y_comparar_fim = dados[['Survived']]"
   ]
  },
  {
   "cell_type": "markdown",
   "metadata": {},
   "source": [
    "#### Brief data analysis "
   ]
  },
  {
   "cell_type": "code",
   "execution_count": 3,
   "metadata": {
    "scrolled": true
   },
   "outputs": [
    {
     "data": {
      "image/png": "[encoded data removed]",
      "text/plain": [
       "<Figure size 432x288 with 1 Axes>"
      ]
     },
     "metadata": {
      "needs_background": "light"
     },
     "output_type": "display_data"
    }
   ],
   "source": [
    "# Survivors\n",
    "dados.hist('Survived');"
   ]
  },
  {
   "cell_type": "code",
   "execution_count": 4,
   "metadata": {
    "scrolled": true
   },
   "outputs": [
    {
     "data": {
      "text/html": [
       "<div>\n",
       "<style scoped>\n",
       "    .dataframe tbody tr th:only-of-type {\n",
       "        vertical-align: middle;\n",
       "    }\n",
       "\n",
       "    .dataframe tbody tr th {\n",
       "        vertical-align: top;\n",
       "    }\n",
       "\n",
       "    .dataframe thead th {\n",
       "        text-align: right;\n",
       "    }\n",
       "</style>\n",
       "<table border=\"1\" class=\"dataframe\">\n",
       "  <thead>\n",
       "    <tr style=\"text-align: right;\">\n",
       "      <th></th>\n",
       "      <th>PassengerId</th>\n",
       "      <th>Survived</th>\n",
       "      <th>Pclass</th>\n",
       "      <th>Name</th>\n",
       "      <th>Sex</th>\n",
       "      <th>Age</th>\n",
       "      <th>SibSp</th>\n",
       "      <th>Parch</th>\n",
       "      <th>Ticket</th>\n",
       "      <th>Fare</th>\n",
       "      <th>Cabin</th>\n",
       "      <th>Embarked</th>\n",
       "    </tr>\n",
       "  </thead>\n",
       "  <tbody>\n",
       "    <tr>\n",
       "      <th>0</th>\n",
       "      <td>1</td>\n",
       "      <td>0</td>\n",
       "      <td>3</td>\n",
       "      <td>Braund, Mr. Owen Harris</td>\n",
       "      <td>male</td>\n",
       "      <td>22.0</td>\n",
       "      <td>1</td>\n",
       "      <td>0</td>\n",
       "      <td>A/5 21171</td>\n",
       "      <td>7.2500</td>\n",
       "      <td>NaN</td>\n",
       "      <td>S</td>\n",
       "    </tr>\n",
       "    <tr>\n",
       "      <th>1</th>\n",
       "      <td>2</td>\n",
       "      <td>1</td>\n",
       "      <td>1</td>\n",
       "      <td>Cumings, Mrs. John Bradley (Florence Briggs Th...</td>\n",
       "      <td>female</td>\n",
       "      <td>38.0</td>\n",
       "      <td>1</td>\n",
       "      <td>0</td>\n",
       "      <td>PC 17599</td>\n",
       "      <td>71.2833</td>\n",
       "      <td>C85</td>\n",
       "      <td>C</td>\n",
       "    </tr>\n",
       "    <tr>\n",
       "      <th>2</th>\n",
       "      <td>3</td>\n",
       "      <td>1</td>\n",
       "      <td>3</td>\n",
       "      <td>Heikkinen, Miss. Laina</td>\n",
       "      <td>female</td>\n",
       "      <td>26.0</td>\n",
       "      <td>0</td>\n",
       "      <td>0</td>\n",
       "      <td>STON/O2. 3101282</td>\n",
       "      <td>7.9250</td>\n",
       "      <td>NaN</td>\n",
       "      <td>S</td>\n",
       "    </tr>\n",
       "    <tr>\n",
       "      <th>3</th>\n",
       "      <td>4</td>\n",
       "      <td>1</td>\n",
       "      <td>1</td>\n",
       "      <td>Futrelle, Mrs. Jacques Heath (Lily May Peel)</td>\n",
       "      <td>female</td>\n",
       "      <td>35.0</td>\n",
       "      <td>1</td>\n",
       "      <td>0</td>\n",
       "      <td>113803</td>\n",
       "      <td>53.1000</td>\n",
       "      <td>C123</td>\n",
       "      <td>S</td>\n",
       "    </tr>\n",
       "    <tr>\n",
       "      <th>4</th>\n",
       "      <td>5</td>\n",
       "      <td>0</td>\n",
       "      <td>3</td>\n",
       "      <td>Allen, Mr. William Henry</td>\n",
       "      <td>male</td>\n",
       "      <td>35.0</td>\n",
       "      <td>0</td>\n",
       "      <td>0</td>\n",
       "      <td>373450</td>\n",
       "      <td>8.0500</td>\n",
       "      <td>NaN</td>\n",
       "      <td>S</td>\n",
       "    </tr>\n",
       "    <tr>\n",
       "      <th>5</th>\n",
       "      <td>6</td>\n",
       "      <td>0</td>\n",
       "      <td>3</td>\n",
       "      <td>Moran, Mr. James</td>\n",
       "      <td>male</td>\n",
       "      <td>NaN</td>\n",
       "      <td>0</td>\n",
       "      <td>0</td>\n",
       "      <td>330877</td>\n",
       "      <td>8.4583</td>\n",
       "      <td>NaN</td>\n",
       "      <td>Q</td>\n",
       "    </tr>\n",
       "  </tbody>\n",
       "</table>\n",
       "</div>"
      ],
      "text/plain": [
       "   PassengerId  Survived  Pclass  \\\n",
       "0            1         0       3   \n",
       "1            2         1       1   \n",
       "2            3         1       3   \n",
       "3            4         1       1   \n",
       "4            5         0       3   \n",
       "5            6         0       3   \n",
       "\n",
       "                                                Name     Sex   Age  SibSp  \\\n",
       "0                            Braund, Mr. Owen Harris    male  22.0      1   \n",
       "1  Cumings, Mrs. John Bradley (Florence Briggs Th...  female  38.0      1   \n",
       "2                             Heikkinen, Miss. Laina  female  26.0      0   \n",
       "3       Futrelle, Mrs. Jacques Heath (Lily May Peel)  female  35.0      1   \n",
       "4                           Allen, Mr. William Henry    male  35.0      0   \n",
       "5                                   Moran, Mr. James    male   NaN      0   \n",
       "\n",
       "   Parch            Ticket     Fare Cabin Embarked  \n",
       "0      0         A/5 21171   7.2500   NaN        S  \n",
       "1      0          PC 17599  71.2833   C85        C  \n",
       "2      0  STON/O2. 3101282   7.9250   NaN        S  \n",
       "3      0            113803  53.1000  C123        S  \n",
       "4      0            373450   8.0500   NaN        S  \n",
       "5      0            330877   8.4583   NaN        Q  "
      ]
     },
     "execution_count": 4,
     "metadata": {},
     "output_type": "execute_result"
    }
   ],
   "source": [
    "dados.head(6)"
   ]
  },
  {
   "cell_type": "code",
   "execution_count": 5,
   "metadata": {},
   "outputs": [],
   "source": [
    "# Convert Sex Column to number \n",
    "# Male = 0\n",
    "# Female = 1\n",
    "\n",
    "def sex(x):\n",
    "    if x.lower() == 'female':\n",
    "        return 1\n",
    "    elif x.lower() == 'male':\n",
    "        return 0\n",
    "\n",
    "# Apply\n",
    "dados['Sex'] = dados['Sex'].apply(sex)"
   ]
  },
  {
   "cell_type": "code",
   "execution_count": 6,
   "metadata": {
    "scrolled": false
   },
   "outputs": [
    {
     "data": {
      "text/html": [
       "<div>\n",
       "<style scoped>\n",
       "    .dataframe tbody tr th:only-of-type {\n",
       "        vertical-align: middle;\n",
       "    }\n",
       "\n",
       "    .dataframe tbody tr th {\n",
       "        vertical-align: top;\n",
       "    }\n",
       "\n",
       "    .dataframe thead th {\n",
       "        text-align: right;\n",
       "    }\n",
       "</style>\n",
       "<table border=\"1\" class=\"dataframe\">\n",
       "  <thead>\n",
       "    <tr style=\"text-align: right;\">\n",
       "      <th></th>\n",
       "      <th>PassengerId</th>\n",
       "      <th>Survived</th>\n",
       "      <th>Pclass</th>\n",
       "      <th>Name</th>\n",
       "      <th>Sex</th>\n",
       "      <th>Age</th>\n",
       "      <th>SibSp</th>\n",
       "      <th>Parch</th>\n",
       "      <th>Ticket</th>\n",
       "      <th>Fare</th>\n",
       "      <th>Cabin</th>\n",
       "      <th>Embarked</th>\n",
       "    </tr>\n",
       "  </thead>\n",
       "  <tbody>\n",
       "    <tr>\n",
       "      <th>0</th>\n",
       "      <td>1</td>\n",
       "      <td>0</td>\n",
       "      <td>3</td>\n",
       "      <td>Braund, Mr. Owen Harris</td>\n",
       "      <td>0</td>\n",
       "      <td>22.0</td>\n",
       "      <td>1</td>\n",
       "      <td>0</td>\n",
       "      <td>A/5 21171</td>\n",
       "      <td>7.2500</td>\n",
       "      <td>NaN</td>\n",
       "      <td>S</td>\n",
       "    </tr>\n",
       "    <tr>\n",
       "      <th>1</th>\n",
       "      <td>2</td>\n",
       "      <td>1</td>\n",
       "      <td>1</td>\n",
       "      <td>Cumings, Mrs. John Bradley (Florence Briggs Th...</td>\n",
       "      <td>1</td>\n",
       "      <td>38.0</td>\n",
       "      <td>1</td>\n",
       "      <td>0</td>\n",
       "      <td>PC 17599</td>\n",
       "      <td>71.2833</td>\n",
       "      <td>C85</td>\n",
       "      <td>C</td>\n",
       "    </tr>\n",
       "    <tr>\n",
       "      <th>2</th>\n",
       "      <td>3</td>\n",
       "      <td>1</td>\n",
       "      <td>3</td>\n",
       "      <td>Heikkinen, Miss. Laina</td>\n",
       "      <td>1</td>\n",
       "      <td>26.0</td>\n",
       "      <td>0</td>\n",
       "      <td>0</td>\n",
       "      <td>STON/O2. 3101282</td>\n",
       "      <td>7.9250</td>\n",
       "      <td>NaN</td>\n",
       "      <td>S</td>\n",
       "    </tr>\n",
       "    <tr>\n",
       "      <th>3</th>\n",
       "      <td>4</td>\n",
       "      <td>1</td>\n",
       "      <td>1</td>\n",
       "      <td>Futrelle, Mrs. Jacques Heath (Lily May Peel)</td>\n",
       "      <td>1</td>\n",
       "      <td>35.0</td>\n",
       "      <td>1</td>\n",
       "      <td>0</td>\n",
       "      <td>113803</td>\n",
       "      <td>53.1000</td>\n",
       "      <td>C123</td>\n",
       "      <td>S</td>\n",
       "    </tr>\n",
       "    <tr>\n",
       "      <th>4</th>\n",
       "      <td>5</td>\n",
       "      <td>0</td>\n",
       "      <td>3</td>\n",
       "      <td>Allen, Mr. William Henry</td>\n",
       "      <td>0</td>\n",
       "      <td>35.0</td>\n",
       "      <td>0</td>\n",
       "      <td>0</td>\n",
       "      <td>373450</td>\n",
       "      <td>8.0500</td>\n",
       "      <td>NaN</td>\n",
       "      <td>S</td>\n",
       "    </tr>\n",
       "    <tr>\n",
       "      <th>5</th>\n",
       "      <td>6</td>\n",
       "      <td>0</td>\n",
       "      <td>3</td>\n",
       "      <td>Moran, Mr. James</td>\n",
       "      <td>0</td>\n",
       "      <td>NaN</td>\n",
       "      <td>0</td>\n",
       "      <td>0</td>\n",
       "      <td>330877</td>\n",
       "      <td>8.4583</td>\n",
       "      <td>NaN</td>\n",
       "      <td>Q</td>\n",
       "    </tr>\n",
       "  </tbody>\n",
       "</table>\n",
       "</div>"
      ],
      "text/plain": [
       "   PassengerId  Survived  Pclass  \\\n",
       "0            1         0       3   \n",
       "1            2         1       1   \n",
       "2            3         1       3   \n",
       "3            4         1       1   \n",
       "4            5         0       3   \n",
       "5            6         0       3   \n",
       "\n",
       "                                                Name  Sex   Age  SibSp  Parch  \\\n",
       "0                            Braund, Mr. Owen Harris    0  22.0      1      0   \n",
       "1  Cumings, Mrs. John Bradley (Florence Briggs Th...    1  38.0      1      0   \n",
       "2                             Heikkinen, Miss. Laina    1  26.0      0      0   \n",
       "3       Futrelle, Mrs. Jacques Heath (Lily May Peel)    1  35.0      1      0   \n",
       "4                           Allen, Mr. William Henry    0  35.0      0      0   \n",
       "5                                   Moran, Mr. James    0   NaN      0      0   \n",
       "\n",
       "             Ticket     Fare Cabin Embarked  \n",
       "0         A/5 21171   7.2500   NaN        S  \n",
       "1          PC 17599  71.2833   C85        C  \n",
       "2  STON/O2. 3101282   7.9250   NaN        S  \n",
       "3            113803  53.1000  C123        S  \n",
       "4            373450   8.0500   NaN        S  \n",
       "5            330877   8.4583   NaN        Q  "
      ]
     },
     "execution_count": 6,
     "metadata": {},
     "output_type": "execute_result"
    }
   ],
   "source": [
    "# Check\n",
    "dados.head(6)"
   ]
  },
  {
   "cell_type": "markdown",
   "metadata": {},
   "source": [
    "Remove:\n",
    "- Passengerid\n",
    "- Name\n",
    "- Ticket\n",
    "- Cabin"
   ]
  },
  {
   "cell_type": "code",
   "execution_count": 7,
   "metadata": {},
   "outputs": [],
   "source": [
    "RETIRAR = ['PassengerId','Name','Ticket','Cabin']\n",
    "\n",
    "dados.drop(RETIRAR,axis=1,inplace = True)"
   ]
  },
  {
   "cell_type": "code",
   "execution_count": 8,
   "metadata": {
    "scrolled": true
   },
   "outputs": [
    {
     "data": {
      "text/html": [
       "<div>\n",
       "<style scoped>\n",
       "    .dataframe tbody tr th:only-of-type {\n",
       "        vertical-align: middle;\n",
       "    }\n",
       "\n",
       "    .dataframe tbody tr th {\n",
       "        vertical-align: top;\n",
       "    }\n",
       "\n",
       "    .dataframe thead th {\n",
       "        text-align: right;\n",
       "    }\n",
       "</style>\n",
       "<table border=\"1\" class=\"dataframe\">\n",
       "  <thead>\n",
       "    <tr style=\"text-align: right;\">\n",
       "      <th></th>\n",
       "      <th>Survived</th>\n",
       "      <th>Pclass</th>\n",
       "      <th>Sex</th>\n",
       "      <th>Age</th>\n",
       "      <th>SibSp</th>\n",
       "      <th>Parch</th>\n",
       "      <th>Fare</th>\n",
       "      <th>Embarked</th>\n",
       "    </tr>\n",
       "  </thead>\n",
       "  <tbody>\n",
       "    <tr>\n",
       "      <th>0</th>\n",
       "      <td>0</td>\n",
       "      <td>3</td>\n",
       "      <td>0</td>\n",
       "      <td>22.0</td>\n",
       "      <td>1</td>\n",
       "      <td>0</td>\n",
       "      <td>7.2500</td>\n",
       "      <td>S</td>\n",
       "    </tr>\n",
       "    <tr>\n",
       "      <th>1</th>\n",
       "      <td>1</td>\n",
       "      <td>1</td>\n",
       "      <td>1</td>\n",
       "      <td>38.0</td>\n",
       "      <td>1</td>\n",
       "      <td>0</td>\n",
       "      <td>71.2833</td>\n",
       "      <td>C</td>\n",
       "    </tr>\n",
       "    <tr>\n",
       "      <th>2</th>\n",
       "      <td>1</td>\n",
       "      <td>3</td>\n",
       "      <td>1</td>\n",
       "      <td>26.0</td>\n",
       "      <td>0</td>\n",
       "      <td>0</td>\n",
       "      <td>7.9250</td>\n",
       "      <td>S</td>\n",
       "    </tr>\n",
       "    <tr>\n",
       "      <th>3</th>\n",
       "      <td>1</td>\n",
       "      <td>1</td>\n",
       "      <td>1</td>\n",
       "      <td>35.0</td>\n",
       "      <td>1</td>\n",
       "      <td>0</td>\n",
       "      <td>53.1000</td>\n",
       "      <td>S</td>\n",
       "    </tr>\n",
       "    <tr>\n",
       "      <th>4</th>\n",
       "      <td>0</td>\n",
       "      <td>3</td>\n",
       "      <td>0</td>\n",
       "      <td>35.0</td>\n",
       "      <td>0</td>\n",
       "      <td>0</td>\n",
       "      <td>8.0500</td>\n",
       "      <td>S</td>\n",
       "    </tr>\n",
       "  </tbody>\n",
       "</table>\n",
       "</div>"
      ],
      "text/plain": [
       "   Survived  Pclass  Sex   Age  SibSp  Parch     Fare Embarked\n",
       "0         0       3    0  22.0      1      0   7.2500        S\n",
       "1         1       1    1  38.0      1      0  71.2833        C\n",
       "2         1       3    1  26.0      0      0   7.9250        S\n",
       "3         1       1    1  35.0      1      0  53.1000        S\n",
       "4         0       3    0  35.0      0      0   8.0500        S"
      ]
     },
     "execution_count": 8,
     "metadata": {},
     "output_type": "execute_result"
    }
   ],
   "source": [
    "# Check\n",
    "dados.head()"
   ]
  },
  {
   "cell_type": "code",
   "execution_count": 9,
   "metadata": {},
   "outputs": [],
   "source": [
    "#convert string to number\n",
    "dados = pd.get_dummies(dados)"
   ]
  },
  {
   "cell_type": "code",
   "execution_count": 10,
   "metadata": {
    "scrolled": false
   },
   "outputs": [
    {
     "data": {
      "image/png": "[encoded data removed]",
      "text/plain": [
       "<Figure size 576x432 with 2 Axes>"
      ]
     },
     "metadata": {
      "needs_background": "light"
     },
     "output_type": "display_data"
    }
   ],
   "source": [
    "# Correlation graph between columns\n",
    "plt.figure(figsize=(8,6))\n",
    "sns.heatmap(dados.corr(),annot = True);"
   ]
  },
  {
   "cell_type": "code",
   "execution_count": 11,
   "metadata": {},
   "outputs": [],
   "source": [
    "#Columns will be used\n",
    "UTILIZADOS = ['Survived','Pclass','Sex','Age','Fare']\n",
    "\n",
    "dados = dados[UTILIZADOS]"
   ]
  },
  {
   "cell_type": "code",
   "execution_count": 12,
   "metadata": {
    "scrolled": true
   },
   "outputs": [
    {
     "data": {
      "text/html": [
       "<div>\n",
       "<style scoped>\n",
       "    .dataframe tbody tr th:only-of-type {\n",
       "        vertical-align: middle;\n",
       "    }\n",
       "\n",
       "    .dataframe tbody tr th {\n",
       "        vertical-align: top;\n",
       "    }\n",
       "\n",
       "    .dataframe thead th {\n",
       "        text-align: right;\n",
       "    }\n",
       "</style>\n",
       "<table border=\"1\" class=\"dataframe\">\n",
       "  <thead>\n",
       "    <tr style=\"text-align: right;\">\n",
       "      <th></th>\n",
       "      <th>Survived</th>\n",
       "      <th>Pclass</th>\n",
       "      <th>Sex</th>\n",
       "      <th>Age</th>\n",
       "      <th>Fare</th>\n",
       "    </tr>\n",
       "  </thead>\n",
       "  <tbody>\n",
       "    <tr>\n",
       "      <th>0</th>\n",
       "      <td>0</td>\n",
       "      <td>3</td>\n",
       "      <td>0</td>\n",
       "      <td>22.0</td>\n",
       "      <td>7.2500</td>\n",
       "    </tr>\n",
       "    <tr>\n",
       "      <th>1</th>\n",
       "      <td>1</td>\n",
       "      <td>1</td>\n",
       "      <td>1</td>\n",
       "      <td>38.0</td>\n",
       "      <td>71.2833</td>\n",
       "    </tr>\n",
       "    <tr>\n",
       "      <th>2</th>\n",
       "      <td>1</td>\n",
       "      <td>3</td>\n",
       "      <td>1</td>\n",
       "      <td>26.0</td>\n",
       "      <td>7.9250</td>\n",
       "    </tr>\n",
       "    <tr>\n",
       "      <th>3</th>\n",
       "      <td>1</td>\n",
       "      <td>1</td>\n",
       "      <td>1</td>\n",
       "      <td>35.0</td>\n",
       "      <td>53.1000</td>\n",
       "    </tr>\n",
       "  </tbody>\n",
       "</table>\n",
       "</div>"
      ],
      "text/plain": [
       "   Survived  Pclass  Sex   Age     Fare\n",
       "0         0       3    0  22.0   7.2500\n",
       "1         1       1    1  38.0  71.2833\n",
       "2         1       3    1  26.0   7.9250\n",
       "3         1       1    1  35.0  53.1000"
      ]
     },
     "execution_count": 12,
     "metadata": {},
     "output_type": "execute_result"
    }
   ],
   "source": [
    "# Check\n",
    "dados.head(4)"
   ]
  },
  {
   "cell_type": "code",
   "execution_count": 13,
   "metadata": {
    "scrolled": false
   },
   "outputs": [
    {
     "data": {
      "image/png": "[encoded data removed]",
      "text/plain": [
       "<Figure size 432x288 with 1 Axes>"
      ]
     },
     "metadata": {
      "needs_background": "light"
     },
     "output_type": "display_data"
    }
   ],
   "source": [
    "# Search for null values\n",
    "sns.heatmap(dados.isnull(),cbar = False);\n"
   ]
  },
  {
   "cell_type": "markdown",
   "metadata": {},
   "source": [
    "Age has many null values, to replace them, we will build a function that will have conditions depending on Pclass 1,2 and 3. The class was chosen, because according to the correlation graph, it has a higher correlation with age."
   ]
  },
  {
   "cell_type": "code",
   "execution_count": 14,
   "metadata": {
    "scrolled": false
   },
   "outputs": [
    {
     "data": {
      "image/png": "[encoded data removed]",
      "text/plain": [
       "<Figure size 432x288 with 1 Axes>"
      ]
     },
     "metadata": {
      "needs_background": "light"
     },
     "output_type": "display_data"
    }
   ],
   "source": [
    "sns.boxplot(x='Pclass', y='Age', data = dados)\n",
    "plt.grid()"
   ]
  },
  {
   "cell_type": "code",
   "execution_count": 15,
   "metadata": {},
   "outputs": [],
   "source": [
    "def age(x):\n",
    "    age = x[0]\n",
    "    pclass = x[1]\n",
    "    \n",
    "    if np.isnan(age) == True:\n",
    "        \n",
    "        if pclass == 1:\n",
    "            return 37\n",
    "        elif pclass == 2:\n",
    "            return 29\n",
    "        elif pclass == 3:\n",
    "            return 24\n",
    "    else:\n",
    "        return age\n",
    "\n",
    "dados['Age'] = dados[['Age','Pclass']].apply(age,axis=1)"
   ]
  },
  {
   "cell_type": "code",
   "execution_count": 16,
   "metadata": {
    "scrolled": false
   },
   "outputs": [
    {
     "data": {
      "text/html": [
       "<div>\n",
       "<style scoped>\n",
       "    .dataframe tbody tr th:only-of-type {\n",
       "        vertical-align: middle;\n",
       "    }\n",
       "\n",
       "    .dataframe tbody tr th {\n",
       "        vertical-align: top;\n",
       "    }\n",
       "\n",
       "    .dataframe thead th {\n",
       "        text-align: right;\n",
       "    }\n",
       "</style>\n",
       "<table border=\"1\" class=\"dataframe\">\n",
       "  <thead>\n",
       "    <tr style=\"text-align: right;\">\n",
       "      <th></th>\n",
       "      <th>Survived</th>\n",
       "      <th>Pclass</th>\n",
       "      <th>Sex</th>\n",
       "      <th>Age</th>\n",
       "      <th>Fare</th>\n",
       "    </tr>\n",
       "  </thead>\n",
       "  <tbody>\n",
       "    <tr>\n",
       "      <th>0</th>\n",
       "      <td>0</td>\n",
       "      <td>3</td>\n",
       "      <td>0</td>\n",
       "      <td>22.0</td>\n",
       "      <td>7.2500</td>\n",
       "    </tr>\n",
       "    <tr>\n",
       "      <th>1</th>\n",
       "      <td>1</td>\n",
       "      <td>1</td>\n",
       "      <td>1</td>\n",
       "      <td>38.0</td>\n",
       "      <td>71.2833</td>\n",
       "    </tr>\n",
       "    <tr>\n",
       "      <th>2</th>\n",
       "      <td>1</td>\n",
       "      <td>3</td>\n",
       "      <td>1</td>\n",
       "      <td>26.0</td>\n",
       "      <td>7.9250</td>\n",
       "    </tr>\n",
       "    <tr>\n",
       "      <th>3</th>\n",
       "      <td>1</td>\n",
       "      <td>1</td>\n",
       "      <td>1</td>\n",
       "      <td>35.0</td>\n",
       "      <td>53.1000</td>\n",
       "    </tr>\n",
       "    <tr>\n",
       "      <th>4</th>\n",
       "      <td>0</td>\n",
       "      <td>3</td>\n",
       "      <td>0</td>\n",
       "      <td>35.0</td>\n",
       "      <td>8.0500</td>\n",
       "    </tr>\n",
       "  </tbody>\n",
       "</table>\n",
       "</div>"
      ],
      "text/plain": [
       "   Survived  Pclass  Sex   Age     Fare\n",
       "0         0       3    0  22.0   7.2500\n",
       "1         1       1    1  38.0  71.2833\n",
       "2         1       3    1  26.0   7.9250\n",
       "3         1       1    1  35.0  53.1000\n",
       "4         0       3    0  35.0   8.0500"
      ]
     },
     "execution_count": 16,
     "metadata": {},
     "output_type": "execute_result"
    }
   ],
   "source": [
    "# Check\n",
    "dados.head()"
   ]
  },
  {
   "cell_type": "markdown",
   "metadata": {},
   "source": [
    "#### Organizing values"
   ]
  },
  {
   "cell_type": "code",
   "execution_count": 17,
   "metadata": {},
   "outputs": [],
   "source": [
    "X = dados.drop('Survived',axis=1)\n",
    "y = dados[['Survived']]"
   ]
  },
  {
   "cell_type": "code",
   "execution_count": 18,
   "metadata": {
    "scrolled": true
   },
   "outputs": [
    {
     "data": {
      "text/plain": [
       "((891, 4), (891, 1))"
      ]
     },
     "execution_count": 18,
     "metadata": {},
     "output_type": "execute_result"
    }
   ],
   "source": [
    "X.shape,y.shape"
   ]
  },
  {
   "cell_type": "code",
   "execution_count": null,
   "metadata": {},
   "outputs": [],
   "source": []
  },
  {
   "cell_type": "markdown",
   "metadata": {},
   "source": [
    "#### Normalizing X data"
   ]
  },
  {
   "cell_type": "code",
   "execution_count": 19,
   "metadata": {
    "scrolled": true
   },
   "outputs": [],
   "source": [
    "from sklearn.preprocessing import MinMaxScaler\n",
    "scaler = MinMaxScaler()\n",
    "\n",
    "X = scaler.fit_transform(X)"
   ]
  },
  {
   "cell_type": "markdown",
   "metadata": {},
   "source": [
    "#### Separate Training and Validation data"
   ]
  },
  {
   "cell_type": "code",
   "execution_count": 20,
   "metadata": {},
   "outputs": [],
   "source": [
    "from sklearn.model_selection import train_test_split"
   ]
  },
  {
   "cell_type": "code",
   "execution_count": 21,
   "metadata": {},
   "outputs": [],
   "source": [
    "X_train, X_val, y_train, y_val = train_test_split(\n",
    "    X,\n",
    "    y,\n",
    "    test_size = 0.1,\n",
    "    random_state = 0,\n",
    "    shuffle = True,\n",
    ")"
   ]
  },
  {
   "cell_type": "code",
   "execution_count": 22,
   "metadata": {},
   "outputs": [
    {
     "data": {
      "text/plain": [
       "((801, 4), (801, 1))"
      ]
     },
     "execution_count": 22,
     "metadata": {},
     "output_type": "execute_result"
    }
   ],
   "source": [
    "X_train.shape,y_train.shape"
   ]
  },
  {
   "cell_type": "markdown",
   "metadata": {},
   "source": [
    "#### Create function for Model, compile and train"
   ]
  },
  {
   "cell_type": "code",
   "execution_count": 23,
   "metadata": {},
   "outputs": [],
   "source": [
    "# Model - n is a multiple used to change neural network\n",
    "def creat_model(n):\n",
    "    \n",
    "    model = tf.keras.models.Sequential()\n",
    "\n",
    "    model.add(tf.keras.layers.Dense(\n",
    "      units = n*2,\n",
    "      activation = 'relu',\n",
    "      input_shape = (X_train.shape[1],)\n",
    "    ))\n",
    "    \n",
    "\n",
    "    model.add(tf.keras.layers.Dropout(0.1))\n",
    "    \n",
    "    model.add(tf.keras.layers.Dense(\n",
    "      units = n*3,\n",
    "      activation = 'relu',\n",
    "\n",
    "    ))\n",
    "    \n",
    "    model.add(tf.keras.layers.Dropout(0.1))\n",
    "    \n",
    "    model.add(tf.keras.layers.Dense(\n",
    "      units = 1,\n",
    "      activation = 'sigmoid',\n",
    "    ))\n",
    "    \n",
    "    # Compile\n",
    "    model.compile(loss = 'binary_crossentropy', optimizer = 'Adam', metrics = ['accuracy'])\n",
    "    \n",
    "    return model\n",
    "\n",
    "# Train\n",
    "def treinar(model, epochs):\n",
    "\n",
    "    history = model.fit(\n",
    "      X_train,\n",
    "      y_train,\n",
    "      validation_split=0.1,\n",
    "      epochs = epochs,\n",
    "      shuffle = True,\n",
    "      )\n",
    "    return history\n",
    "\n"
   ]
  },
  {
   "cell_type": "markdown",
   "metadata": {},
   "source": [
    "#### Predictions"
   ]
  },
  {
   "cell_type": "code",
   "execution_count": 24,
   "metadata": {},
   "outputs": [],
   "source": [
    "#This function separates the values of predictions\n",
    "#into 0 and 1\n",
    "def cond(x):\n",
    "    if x >= 0.5:\n",
    "      return 1\n",
    "    else:\n",
    "      return 0\n",
    "\n",
    "def predict(X,y,model):\n",
    "\n",
    "    pred_train = model.predict(X)\n",
    "    pred_df = pd.DataFrame()\n",
    "    pred_df['pred'] = pred_train[:,0]\n",
    "    pred_df['pred'] = pred_df['pred'].apply(cond)\n",
    "    y = y.reset_index().drop('index',axis=1)\n",
    "    y_train_pred = y.join(pred_df)\n",
    "    k = 0\n",
    "    total = len(y_train_pred['pred'])\n",
    "    for x,y in zip(y_train_pred['pred'],y_train_pred['Survived']):\n",
    "      if x == y:\n",
    "          k = k+1\n",
    "    p = k/total\n",
    "    p_ = np.around(p*100,2)\n",
    "    print(f\"Accuracy porcentage {p_}%\")\n",
    "    return p_\n"
   ]
  },
  {
   "cell_type": "markdown",
   "metadata": {},
   "source": [
    "##### Function to Plot"
   ]
  },
  {
   "cell_type": "code",
   "execution_count": 25,
   "metadata": {},
   "outputs": [],
   "source": [
    "def plot(history):\n",
    "\n",
    "  plt.figure()\n",
    "  plt.plot(history.history['accuracy'],'or', label = 'acc',alpha = 0.3)\n",
    "  plt.plot(history.history['val_accuracy'], 'ob', label = 'acc_val',alpha = 0.3)\n",
    "  plt.legend()\n",
    "  plt.grid()\n",
    "\n",
    "  plt.figure()\n",
    "  plt.plot(history.history['loss'],'or', label = 'loss',alpha = 0.3)\n",
    "  plt.plot(history.history['val_loss'],'ob', label = 'loss_val',alpha = 0.3)\n",
    "  plt.legend()\n",
    "  plt.grid()"
   ]
  },
  {
   "cell_type": "markdown",
   "metadata": {},
   "source": [
    "#### Calculation Routine:"
   ]
  },
  {
   "cell_type": "code",
   "execution_count": 39,
   "metadata": {
    "scrolled": true
   },
   "outputs": [
    {
     "name": "stdout",
     "output_type": "stream",
     "text": [
      "Train on 720 samples, validate on 81 samples\n",
      "Epoch 1/40\n",
      "720/720 [==============================] - 1s 879us/sample - loss: 0.5248 - accuracy: 0.7667 - val_loss: 0.5323 - val_accuracy: 0.6667\n",
      "Epoch 2/40\n",
      "720/720 [==============================] - 0s 202us/sample - loss: 0.4521 - accuracy: 0.7875 - val_loss: 0.5128 - val_accuracy: 0.6790\n",
      "Epoch 3/40\n",
      "720/720 [==============================] - 0s 221us/sample - loss: 0.4411 - accuracy: 0.8167 - val_loss: 0.4979 - val_accuracy: 0.7901\n",
      "Epoch 4/40\n",
      "720/720 [==============================] - 0s 221us/sample - loss: 0.4369 - accuracy: 0.8097 - val_loss: 0.5101 - val_accuracy: 0.6914\n",
      "Epoch 5/40\n",
      "720/720 [==============================] - 0s 204us/sample - loss: 0.4357 - accuracy: 0.8042 - val_loss: 0.5294 - val_accuracy: 0.6790\n",
      "Epoch 6/40\n",
      "720/720 [==============================] - 0s 233us/sample - loss: 0.4350 - accuracy: 0.8014 - val_loss: 0.4886 - val_accuracy: 0.7901\n",
      "Epoch 7/40\n",
      "720/720 [==============================] - 0s 218us/sample - loss: 0.4322 - accuracy: 0.8042 - val_loss: 0.5734 - val_accuracy: 0.6667\n",
      "Epoch 8/40\n",
      "720/720 [==============================] - 0s 192us/sample - loss: 0.4296 - accuracy: 0.8056 - val_loss: 0.4773 - val_accuracy: 0.8148\n",
      "Epoch 9/40\n",
      "720/720 [==============================] - 0s 195us/sample - loss: 0.4439 - accuracy: 0.7972 - val_loss: 0.5393 - val_accuracy: 0.6914\n",
      "Epoch 10/40\n",
      "720/720 [==============================] - 0s 191us/sample - loss: 0.4320 - accuracy: 0.8056 - val_loss: 0.5006 - val_accuracy: 0.7284\n",
      "Epoch 11/40\n",
      "720/720 [==============================] - 0s 202us/sample - loss: 0.4300 - accuracy: 0.8042 - val_loss: 0.4783 - val_accuracy: 0.8148\n",
      "Epoch 12/40\n",
      "720/720 [==============================] - 0s 199us/sample - loss: 0.4312 - accuracy: 0.8014 - val_loss: 0.4769 - val_accuracy: 0.8148\n",
      "Epoch 13/40\n",
      "720/720 [==============================] - 0s 193us/sample - loss: 0.4269 - accuracy: 0.8069 - val_loss: 0.5457 - val_accuracy: 0.6790\n",
      "Epoch 14/40\n",
      "720/720 [==============================] - 0s 190us/sample - loss: 0.4270 - accuracy: 0.8153 - val_loss: 0.4830 - val_accuracy: 0.8148\n",
      "Epoch 15/40\n",
      "720/720 [==============================] - 0s 197us/sample - loss: 0.4283 - accuracy: 0.8069 - val_loss: 0.5058 - val_accuracy: 0.7284\n",
      "Epoch 16/40\n",
      "720/720 [==============================] - 0s 198us/sample - loss: 0.4269 - accuracy: 0.8083 - val_loss: 0.5166 - val_accuracy: 0.7160\n",
      "Epoch 17/40\n",
      "720/720 [==============================] - 0s 192us/sample - loss: 0.4251 - accuracy: 0.8042 - val_loss: 0.4828 - val_accuracy: 0.8272\n",
      "Epoch 18/40\n",
      "720/720 [==============================] - 0s 200us/sample - loss: 0.4326 - accuracy: 0.8083 - val_loss: 0.4785 - val_accuracy: 0.8148\n",
      "Epoch 19/40\n",
      "720/720 [==============================] - 0s 181us/sample - loss: 0.4264 - accuracy: 0.8139 - val_loss: 0.5140 - val_accuracy: 0.7284\n",
      "Epoch 20/40\n",
      "720/720 [==============================] - 0s 199us/sample - loss: 0.4257 - accuracy: 0.8083 - val_loss: 0.5093 - val_accuracy: 0.7284\n",
      "Epoch 21/40\n",
      "720/720 [==============================] - 0s 192us/sample - loss: 0.4240 - accuracy: 0.8139 - val_loss: 0.5219 - val_accuracy: 0.7160\n",
      "Epoch 22/40\n",
      "720/720 [==============================] - 0s 184us/sample - loss: 0.4256 - accuracy: 0.8139 - val_loss: 0.4988 - val_accuracy: 0.7531\n",
      "Epoch 23/40\n",
      "720/720 [==============================] - 0s 213us/sample - loss: 0.4275 - accuracy: 0.8153 - val_loss: 0.5137 - val_accuracy: 0.7284\n",
      "Epoch 24/40\n",
      "720/720 [==============================] - 0s 197us/sample - loss: 0.4195 - accuracy: 0.8194 - val_loss: 0.5744 - val_accuracy: 0.6914\n",
      "Epoch 25/40\n",
      "720/720 [==============================] - 0s 189us/sample - loss: 0.4365 - accuracy: 0.8167 - val_loss: 0.4858 - val_accuracy: 0.8272\n",
      "Epoch 26/40\n",
      "720/720 [==============================] - 0s 204us/sample - loss: 0.4243 - accuracy: 0.8083 - val_loss: 0.4985 - val_accuracy: 0.7407\n",
      "Epoch 27/40\n",
      "720/720 [==============================] - 0s 199us/sample - loss: 0.4224 - accuracy: 0.8153 - val_loss: 0.4938 - val_accuracy: 0.7901\n",
      "Epoch 28/40\n",
      "720/720 [==============================] - 0s 191us/sample - loss: 0.4210 - accuracy: 0.8139 - val_loss: 0.5049 - val_accuracy: 0.7407\n",
      "Epoch 29/40\n",
      "720/720 [==============================] - 0s 185us/sample - loss: 0.4197 - accuracy: 0.8181 - val_loss: 0.4838 - val_accuracy: 0.8272\n",
      "Epoch 30/40\n",
      "720/720 [==============================] - 0s 200us/sample - loss: 0.4217 - accuracy: 0.8111 - val_loss: 0.4889 - val_accuracy: 0.8148\n",
      "Epoch 31/40\n",
      "720/720 [==============================] - 0s 192us/sample - loss: 0.4165 - accuracy: 0.8181 - val_loss: 0.5353 - val_accuracy: 0.7160\n",
      "Epoch 32/40\n",
      "720/720 [==============================] - 0s 204us/sample - loss: 0.4204 - accuracy: 0.8222 - val_loss: 0.5068 - val_accuracy: 0.7407\n",
      "Epoch 33/40\n",
      "720/720 [==============================] - 0s 198us/sample - loss: 0.4218 - accuracy: 0.8069 - val_loss: 0.5272 - val_accuracy: 0.7160\n",
      "Epoch 34/40\n",
      "720/720 [==============================] - 0s 190us/sample - loss: 0.4194 - accuracy: 0.8167 - val_loss: 0.4945 - val_accuracy: 0.7407\n",
      "Epoch 35/40\n",
      "720/720 [==============================] - 0s 186us/sample - loss: 0.4213 - accuracy: 0.8167 - val_loss: 0.4765 - val_accuracy: 0.8025\n",
      "Epoch 36/40\n",
      "720/720 [==============================] - 0s 212us/sample - loss: 0.4176 - accuracy: 0.8111 - val_loss: 0.4866 - val_accuracy: 0.8025\n",
      "Epoch 37/40\n",
      "720/720 [==============================] - 0s 207us/sample - loss: 0.4155 - accuracy: 0.8153 - val_loss: 0.5053 - val_accuracy: 0.7407\n",
      "Epoch 38/40\n",
      "720/720 [==============================] - 0s 202us/sample - loss: 0.4155 - accuracy: 0.8125 - val_loss: 0.4931 - val_accuracy: 0.7901\n",
      "Epoch 39/40\n",
      "720/720 [==============================] - 0s 192us/sample - loss: 0.4173 - accuracy: 0.8139 - val_loss: 0.4826 - val_accuracy: 0.8272\n",
      "Epoch 40/40\n",
      "720/720 [==============================] - 0s 196us/sample - loss: 0.4118 - accuracy: 0.8278 - val_loss: 0.4879 - val_accuracy: 0.8148\n",
      "Accuracy porcentage 82.15%\n",
      "Accuracy porcentage 77.78%\n",
      "Train on 720 samples, validate on 81 samples\n",
      "Epoch 1/40\n",
      "720/720 [==============================] - 1s 889us/sample - loss: 0.5331 - accuracy: 0.7639 - val_loss: 0.5072 - val_accuracy: 0.7778\n",
      "Epoch 2/40\n",
      "720/720 [==============================] - 0s 208us/sample - loss: 0.4541 - accuracy: 0.7875 - val_loss: 0.5290 - val_accuracy: 0.6543\n",
      "Epoch 3/40\n",
      "720/720 [==============================] - 0s 212us/sample - loss: 0.4390 - accuracy: 0.8028 - val_loss: 0.5100 - val_accuracy: 0.6914\n",
      "Epoch 4/40\n",
      "720/720 [==============================] - 0s 206us/sample - loss: 0.4324 - accuracy: 0.8111 - val_loss: 0.4981 - val_accuracy: 0.7284\n",
      "Epoch 5/40\n",
      "720/720 [==============================] - 0s 203us/sample - loss: 0.4475 - accuracy: 0.8028 - val_loss: 0.4777 - val_accuracy: 0.8025\n",
      "Epoch 6/40\n",
      "720/720 [==============================] - 0s 211us/sample - loss: 0.4441 - accuracy: 0.7972 - val_loss: 0.4808 - val_accuracy: 0.7901\n",
      "Epoch 7/40\n",
      "720/720 [==============================] - 0s 217us/sample - loss: 0.4364 - accuracy: 0.8069 - val_loss: 0.4887 - val_accuracy: 0.8025\n",
      "Epoch 8/40\n",
      "720/720 [==============================] - 0s 211us/sample - loss: 0.4360 - accuracy: 0.8042 - val_loss: 0.5156 - val_accuracy: 0.7160\n",
      "Epoch 9/40\n",
      "720/720 [==============================] - 0s 204us/sample - loss: 0.4308 - accuracy: 0.8097 - val_loss: 0.5346 - val_accuracy: 0.6914\n",
      "Epoch 10/40\n",
      "720/720 [==============================] - 0s 188us/sample - loss: 0.4320 - accuracy: 0.8069 - val_loss: 0.5102 - val_accuracy: 0.6914\n",
      "Epoch 11/40\n",
      "720/720 [==============================] - 0s 211us/sample - loss: 0.4411 - accuracy: 0.8042 - val_loss: 0.5421 - val_accuracy: 0.6790\n",
      "Epoch 12/40\n",
      "720/720 [==============================] - 0s 213us/sample - loss: 0.4337 - accuracy: 0.7986 - val_loss: 0.5028 - val_accuracy: 0.7160\n",
      "Epoch 13/40\n",
      "720/720 [==============================] - 0s 206us/sample - loss: 0.4280 - accuracy: 0.8097 - val_loss: 0.4859 - val_accuracy: 0.8025\n",
      "Epoch 14/40\n",
      "720/720 [==============================] - 0s 239us/sample - loss: 0.4249 - accuracy: 0.8097 - val_loss: 0.5207 - val_accuracy: 0.6790\n",
      "Epoch 15/40\n",
      "720/720 [==============================] - 0s 196us/sample - loss: 0.4321 - accuracy: 0.8042 - val_loss: 0.5040 - val_accuracy: 0.7531\n"
     ]
    },
    {
     "name": "stdout",
     "output_type": "stream",
     "text": [
      "Epoch 16/40\n",
      "720/720 [==============================] - 0s 215us/sample - loss: 0.4291 - accuracy: 0.8014 - val_loss: 0.5063 - val_accuracy: 0.7284\n",
      "Epoch 17/40\n",
      "720/720 [==============================] - 0s 197us/sample - loss: 0.4250 - accuracy: 0.8056 - val_loss: 0.4944 - val_accuracy: 0.7901\n",
      "Epoch 18/40\n",
      "720/720 [==============================] - 0s 190us/sample - loss: 0.4299 - accuracy: 0.8014 - val_loss: 0.5031 - val_accuracy: 0.7407\n",
      "Epoch 19/40\n",
      "720/720 [==============================] - 0s 195us/sample - loss: 0.4228 - accuracy: 0.8125 - val_loss: 0.5066 - val_accuracy: 0.7284\n",
      "Epoch 20/40\n",
      "720/720 [==============================] - 0s 203us/sample - loss: 0.4201 - accuracy: 0.8153 - val_loss: 0.5318 - val_accuracy: 0.7037\n",
      "Epoch 21/40\n",
      "720/720 [==============================] - 0s 208us/sample - loss: 0.4331 - accuracy: 0.8042 - val_loss: 0.5251 - val_accuracy: 0.7037\n",
      "Epoch 22/40\n",
      "720/720 [==============================] - 0s 213us/sample - loss: 0.4239 - accuracy: 0.8125 - val_loss: 0.5122 - val_accuracy: 0.7160\n",
      "Epoch 23/40\n",
      "720/720 [==============================] - 0s 217us/sample - loss: 0.4263 - accuracy: 0.8208 - val_loss: 0.4815 - val_accuracy: 0.8148\n",
      "Epoch 24/40\n",
      "720/720 [==============================] - 0s 211us/sample - loss: 0.4150 - accuracy: 0.8194 - val_loss: 0.5239 - val_accuracy: 0.7037\n",
      "Epoch 25/40\n",
      "720/720 [==============================] - 0s 217us/sample - loss: 0.4215 - accuracy: 0.8292 - val_loss: 0.4735 - val_accuracy: 0.8025\n",
      "Epoch 26/40\n",
      "720/720 [==============================] - 0s 214us/sample - loss: 0.4265 - accuracy: 0.8167 - val_loss: 0.4898 - val_accuracy: 0.7901\n",
      "Epoch 27/40\n",
      "720/720 [==============================] - 0s 205us/sample - loss: 0.4212 - accuracy: 0.8097 - val_loss: 0.4951 - val_accuracy: 0.7901\n",
      "Epoch 28/40\n",
      "720/720 [==============================] - 0s 203us/sample - loss: 0.4169 - accuracy: 0.8097 - val_loss: 0.4999 - val_accuracy: 0.7407\n",
      "Epoch 29/40\n",
      "720/720 [==============================] - 0s 198us/sample - loss: 0.4208 - accuracy: 0.8153 - val_loss: 0.5411 - val_accuracy: 0.7160\n",
      "Epoch 30/40\n",
      "720/720 [==============================] - 0s 194us/sample - loss: 0.4203 - accuracy: 0.8194 - val_loss: 0.4892 - val_accuracy: 0.7901\n",
      "Epoch 31/40\n",
      "720/720 [==============================] - 0s 202us/sample - loss: 0.4188 - accuracy: 0.8111 - val_loss: 0.4966 - val_accuracy: 0.7407\n",
      "Epoch 32/40\n",
      "720/720 [==============================] - 0s 199us/sample - loss: 0.4143 - accuracy: 0.8097 - val_loss: 0.4940 - val_accuracy: 0.7407\n",
      "Epoch 33/40\n",
      "720/720 [==============================] - 0s 214us/sample - loss: 0.4182 - accuracy: 0.8194 - val_loss: 0.5950 - val_accuracy: 0.6790\n",
      "Epoch 34/40\n",
      "720/720 [==============================] - 0s 209us/sample - loss: 0.4237 - accuracy: 0.8222 - val_loss: 0.4724 - val_accuracy: 0.8025\n",
      "Epoch 35/40\n",
      "720/720 [==============================] - 0s 206us/sample - loss: 0.4198 - accuracy: 0.8125 - val_loss: 0.5296 - val_accuracy: 0.7160\n",
      "Epoch 36/40\n",
      "720/720 [==============================] - 0s 208us/sample - loss: 0.4161 - accuracy: 0.8153 - val_loss: 0.4920 - val_accuracy: 0.7407\n",
      "Epoch 37/40\n",
      "720/720 [==============================] - 0s 203us/sample - loss: 0.4129 - accuracy: 0.8181 - val_loss: 0.5305 - val_accuracy: 0.7160\n",
      "Epoch 38/40\n",
      "720/720 [==============================] - 0s 192us/sample - loss: 0.4135 - accuracy: 0.8278 - val_loss: 0.4937 - val_accuracy: 0.7407\n",
      "Epoch 39/40\n",
      "720/720 [==============================] - 0s 210us/sample - loss: 0.4111 - accuracy: 0.8139 - val_loss: 0.4953 - val_accuracy: 0.7407\n",
      "Epoch 40/40\n",
      "720/720 [==============================] - 0s 205us/sample - loss: 0.4121 - accuracy: 0.8056 - val_loss: 0.4698 - val_accuracy: 0.8025\n",
      "Accuracy porcentage 81.77%\n",
      "Accuracy porcentage 78.89%\n",
      "Train on 720 samples, validate on 81 samples\n",
      "Epoch 1/40\n",
      "720/720 [==============================] - 1s 895us/sample - loss: 0.5184 - accuracy: 0.7639 - val_loss: 0.4892 - val_accuracy: 0.7901\n",
      "Epoch 2/40\n",
      "720/720 [==============================] - 0s 229us/sample - loss: 0.4507 - accuracy: 0.7972 - val_loss: 0.4723 - val_accuracy: 0.8025\n",
      "Epoch 3/40\n",
      "720/720 [==============================] - 0s 229us/sample - loss: 0.4487 - accuracy: 0.7986 - val_loss: 0.5081 - val_accuracy: 0.7160\n",
      "Epoch 4/40\n",
      "720/720 [==============================] - 0s 235us/sample - loss: 0.4422 - accuracy: 0.8042 - val_loss: 0.5455 - val_accuracy: 0.6914\n",
      "Epoch 5/40\n",
      "720/720 [==============================] - 0s 228us/sample - loss: 0.4417 - accuracy: 0.7986 - val_loss: 0.4774 - val_accuracy: 0.8025\n",
      "Epoch 6/40\n",
      "720/720 [==============================] - 0s 234us/sample - loss: 0.4373 - accuracy: 0.8181 - val_loss: 0.5532 - val_accuracy: 0.6914\n",
      "Epoch 7/40\n",
      "720/720 [==============================] - 0s 234us/sample - loss: 0.4342 - accuracy: 0.8000 - val_loss: 0.5075 - val_accuracy: 0.7160\n",
      "Epoch 8/40\n",
      "720/720 [==============================] - 0s 236us/sample - loss: 0.4273 - accuracy: 0.8056 - val_loss: 0.5436 - val_accuracy: 0.6790\n",
      "Epoch 9/40\n",
      "720/720 [==============================] - 0s 237us/sample - loss: 0.4305 - accuracy: 0.8028 - val_loss: 0.5389 - val_accuracy: 0.6790\n",
      "Epoch 10/40\n",
      "720/720 [==============================] - 0s 226us/sample - loss: 0.4336 - accuracy: 0.8083 - val_loss: 0.5106 - val_accuracy: 0.7037\n",
      "Epoch 11/40\n",
      "720/720 [==============================] - 0s 230us/sample - loss: 0.4268 - accuracy: 0.8083 - val_loss: 0.5226 - val_accuracy: 0.6790\n",
      "Epoch 12/40\n",
      "720/720 [==============================] - 0s 233us/sample - loss: 0.4323 - accuracy: 0.8097 - val_loss: 0.5218 - val_accuracy: 0.6914\n",
      "Epoch 13/40\n",
      "720/720 [==============================] - 0s 230us/sample - loss: 0.4300 - accuracy: 0.8069 - val_loss: 0.4969 - val_accuracy: 0.7284\n",
      "Epoch 14/40\n",
      "720/720 [==============================] - 0s 232us/sample - loss: 0.4317 - accuracy: 0.7903 - val_loss: 0.4840 - val_accuracy: 0.7901\n",
      "Epoch 15/40\n",
      "720/720 [==============================] - 0s 229us/sample - loss: 0.4264 - accuracy: 0.8042 - val_loss: 0.4804 - val_accuracy: 0.8148\n",
      "Epoch 16/40\n",
      "720/720 [==============================] - 0s 229us/sample - loss: 0.4290 - accuracy: 0.8208 - val_loss: 0.4875 - val_accuracy: 0.8272\n",
      "Epoch 17/40\n",
      "720/720 [==============================] - 0s 232us/sample - loss: 0.4340 - accuracy: 0.8056 - val_loss: 0.5526 - val_accuracy: 0.6914\n",
      "Epoch 18/40\n",
      "720/720 [==============================] - 0s 229us/sample - loss: 0.4222 - accuracy: 0.8181 - val_loss: 0.4847 - val_accuracy: 0.8148\n",
      "Epoch 19/40\n",
      "720/720 [==============================] - 0s 228us/sample - loss: 0.4301 - accuracy: 0.7986 - val_loss: 0.5080 - val_accuracy: 0.7160\n",
      "Epoch 20/40\n",
      "720/720 [==============================] - 0s 234us/sample - loss: 0.4250 - accuracy: 0.8139 - val_loss: 0.4967 - val_accuracy: 0.7407\n",
      "Epoch 21/40\n",
      "720/720 [==============================] - 0s 237us/sample - loss: 0.4267 - accuracy: 0.8125 - val_loss: 0.4748 - val_accuracy: 0.8148\n",
      "Epoch 22/40\n",
      "720/720 [==============================] - 0s 218us/sample - loss: 0.4273 - accuracy: 0.8097 - val_loss: 0.5553 - val_accuracy: 0.7160\n",
      "Epoch 23/40\n",
      "720/720 [==============================] - 0s 232us/sample - loss: 0.4256 - accuracy: 0.8028 - val_loss: 0.5267 - val_accuracy: 0.7037\n",
      "Epoch 24/40\n",
      "720/720 [==============================] - 0s 272us/sample - loss: 0.4202 - accuracy: 0.8139 - val_loss: 0.4872 - val_accuracy: 0.8148\n",
      "Epoch 25/40\n",
      "720/720 [==============================] - 0s 226us/sample - loss: 0.4193 - accuracy: 0.8139 - val_loss: 0.5261 - val_accuracy: 0.7160\n",
      "Epoch 26/40\n",
      "720/720 [==============================] - 0s 237us/sample - loss: 0.4207 - accuracy: 0.8264 - val_loss: 0.5117 - val_accuracy: 0.7407\n",
      "Epoch 27/40\n",
      "720/720 [==============================] - 0s 226us/sample - loss: 0.4176 - accuracy: 0.8236 - val_loss: 0.4954 - val_accuracy: 0.7407\n",
      "Epoch 28/40\n",
      "720/720 [==============================] - 0s 240us/sample - loss: 0.4181 - accuracy: 0.8097 - val_loss: 0.4966 - val_accuracy: 0.7901\n",
      "Epoch 29/40\n",
      "720/720 [==============================] - 0s 235us/sample - loss: 0.4149 - accuracy: 0.8167 - val_loss: 0.5099 - val_accuracy: 0.7407\n",
      "Epoch 30/40\n",
      "720/720 [==============================] - 0s 224us/sample - loss: 0.4194 - accuracy: 0.8097 - val_loss: 0.5198 - val_accuracy: 0.7037\n",
      "Epoch 31/40\n"
     ]
    },
    {
     "name": "stdout",
     "output_type": "stream",
     "text": [
      "720/720 [==============================] - 0s 223us/sample - loss: 0.4255 - accuracy: 0.8097 - val_loss: 0.4982 - val_accuracy: 0.7901\n",
      "Epoch 32/40\n",
      "720/720 [==============================] - 0s 229us/sample - loss: 0.4187 - accuracy: 0.8181 - val_loss: 0.5567 - val_accuracy: 0.7160\n",
      "Epoch 33/40\n",
      "720/720 [==============================] - 0s 227us/sample - loss: 0.4162 - accuracy: 0.8111 - val_loss: 0.5234 - val_accuracy: 0.7037\n",
      "Epoch 34/40\n",
      "720/720 [==============================] - 0s 225us/sample - loss: 0.4105 - accuracy: 0.8194 - val_loss: 0.4852 - val_accuracy: 0.8148\n",
      "Epoch 35/40\n",
      "720/720 [==============================] - 0s 228us/sample - loss: 0.4117 - accuracy: 0.8111 - val_loss: 0.5062 - val_accuracy: 0.7407\n",
      "Epoch 36/40\n",
      "720/720 [==============================] - 0s 230us/sample - loss: 0.4100 - accuracy: 0.8222 - val_loss: 0.4946 - val_accuracy: 0.7407\n",
      "Epoch 37/40\n",
      "720/720 [==============================] - 0s 227us/sample - loss: 0.4151 - accuracy: 0.8181 - val_loss: 0.4831 - val_accuracy: 0.8025\n",
      "Epoch 38/40\n",
      "720/720 [==============================] - 0s 218us/sample - loss: 0.4236 - accuracy: 0.8069 - val_loss: 0.5324 - val_accuracy: 0.7160\n",
      "Epoch 39/40\n",
      "720/720 [==============================] - 0s 223us/sample - loss: 0.4147 - accuracy: 0.8222 - val_loss: 0.5480 - val_accuracy: 0.7160\n",
      "Epoch 40/40\n",
      "720/720 [==============================] - 0s 233us/sample - loss: 0.4138 - accuracy: 0.8236 - val_loss: 0.4754 - val_accuracy: 0.8025\n",
      "Accuracy porcentage 81.27%\n",
      "Accuracy porcentage 78.89%\n",
      "Train on 720 samples, validate on 81 samples\n",
      "Epoch 1/40\n",
      "720/720 [==============================] - 1s 925us/sample - loss: 0.5066 - accuracy: 0.7764 - val_loss: 0.5539 - val_accuracy: 0.6543\n",
      "Epoch 2/40\n",
      "720/720 [==============================] - 0s 268us/sample - loss: 0.4526 - accuracy: 0.7958 - val_loss: 0.4968 - val_accuracy: 0.7654\n",
      "Epoch 3/40\n",
      "720/720 [==============================] - 0s 272us/sample - loss: 0.4561 - accuracy: 0.7819 - val_loss: 0.5075 - val_accuracy: 0.7037\n",
      "Epoch 4/40\n",
      "720/720 [==============================] - 0s 267us/sample - loss: 0.4395 - accuracy: 0.8056 - val_loss: 0.5359 - val_accuracy: 0.6667\n",
      "Epoch 5/40\n",
      "720/720 [==============================] - 0s 261us/sample - loss: 0.4409 - accuracy: 0.8028 - val_loss: 0.5298 - val_accuracy: 0.6667\n",
      "Epoch 6/40\n",
      "720/720 [==============================] - 0s 273us/sample - loss: 0.4328 - accuracy: 0.8139 - val_loss: 0.4845 - val_accuracy: 0.7901\n",
      "Epoch 7/40\n",
      "720/720 [==============================] - 0s 279us/sample - loss: 0.4365 - accuracy: 0.8069 - val_loss: 0.5140 - val_accuracy: 0.6914\n",
      "Epoch 8/40\n",
      "720/720 [==============================] - 0s 270us/sample - loss: 0.4360 - accuracy: 0.8028 - val_loss: 0.5278 - val_accuracy: 0.6914\n",
      "Epoch 9/40\n",
      "720/720 [==============================] - 0s 258us/sample - loss: 0.4319 - accuracy: 0.8111 - val_loss: 0.4824 - val_accuracy: 0.7778\n",
      "Epoch 10/40\n",
      "720/720 [==============================] - 0s 249us/sample - loss: 0.4349 - accuracy: 0.7972 - val_loss: 0.5249 - val_accuracy: 0.6790\n",
      "Epoch 11/40\n",
      "720/720 [==============================] - 0s 272us/sample - loss: 0.4282 - accuracy: 0.8083 - val_loss: 0.4961 - val_accuracy: 0.8025\n",
      "Epoch 12/40\n",
      "720/720 [==============================] - 0s 278us/sample - loss: 0.4268 - accuracy: 0.8125 - val_loss: 0.4936 - val_accuracy: 0.8148\n",
      "Epoch 13/40\n",
      "720/720 [==============================] - 0s 259us/sample - loss: 0.4317 - accuracy: 0.8014 - val_loss: 0.5053 - val_accuracy: 0.7901\n",
      "Epoch 14/40\n",
      "720/720 [==============================] - 0s 256us/sample - loss: 0.4287 - accuracy: 0.8111 - val_loss: 0.5334 - val_accuracy: 0.6914\n",
      "Epoch 15/40\n",
      "720/720 [==============================] - 0s 271us/sample - loss: 0.4266 - accuracy: 0.8056 - val_loss: 0.4972 - val_accuracy: 0.8272\n",
      "Epoch 16/40\n",
      "720/720 [==============================] - 0s 280us/sample - loss: 0.4269 - accuracy: 0.8125 - val_loss: 0.4914 - val_accuracy: 0.8272\n",
      "Epoch 17/40\n",
      "720/720 [==============================] - 0s 259us/sample - loss: 0.4234 - accuracy: 0.8056 - val_loss: 0.5209 - val_accuracy: 0.7160\n",
      "Epoch 18/40\n",
      "720/720 [==============================] - 0s 256us/sample - loss: 0.4294 - accuracy: 0.8111 - val_loss: 0.5826 - val_accuracy: 0.7037\n",
      "Epoch 19/40\n",
      "720/720 [==============================] - 0s 278us/sample - loss: 0.4295 - accuracy: 0.8125 - val_loss: 0.5414 - val_accuracy: 0.7160\n",
      "Epoch 20/40\n",
      "720/720 [==============================] - 0s 267us/sample - loss: 0.4312 - accuracy: 0.8111 - val_loss: 0.5098 - val_accuracy: 0.7284\n",
      "Epoch 21/40\n",
      "720/720 [==============================] - 0s 274us/sample - loss: 0.4274 - accuracy: 0.8097 - val_loss: 0.5292 - val_accuracy: 0.7037\n",
      "Epoch 22/40\n",
      "720/720 [==============================] - 0s 272us/sample - loss: 0.4235 - accuracy: 0.8194 - val_loss: 0.4807 - val_accuracy: 0.7901\n",
      "Epoch 23/40\n",
      "720/720 [==============================] - 0s 261us/sample - loss: 0.4263 - accuracy: 0.8125 - val_loss: 0.5047 - val_accuracy: 0.7407\n",
      "Epoch 24/40\n",
      "720/720 [==============================] - 0s 263us/sample - loss: 0.4188 - accuracy: 0.8097 - val_loss: 0.5019 - val_accuracy: 0.7901\n",
      "Epoch 25/40\n",
      "720/720 [==============================] - 0s 255us/sample - loss: 0.4190 - accuracy: 0.8208 - val_loss: 0.5294 - val_accuracy: 0.7160\n",
      "Epoch 26/40\n",
      "720/720 [==============================] - 0s 270us/sample - loss: 0.4193 - accuracy: 0.8167 - val_loss: 0.4900 - val_accuracy: 0.8148\n",
      "Epoch 27/40\n",
      "720/720 [==============================] - 0s 257us/sample - loss: 0.4177 - accuracy: 0.8222 - val_loss: 0.4995 - val_accuracy: 0.7901\n",
      "Epoch 28/40\n",
      "720/720 [==============================] - 0s 240us/sample - loss: 0.4169 - accuracy: 0.8222 - val_loss: 0.5346 - val_accuracy: 0.7160\n",
      "Epoch 29/40\n",
      "720/720 [==============================] - 0s 270us/sample - loss: 0.4235 - accuracy: 0.8097 - val_loss: 0.5195 - val_accuracy: 0.7284\n",
      "Epoch 30/40\n",
      "720/720 [==============================] - 0s 276us/sample - loss: 0.4245 - accuracy: 0.8194 - val_loss: 0.4774 - val_accuracy: 0.8025\n",
      "Epoch 31/40\n",
      "720/720 [==============================] - 0s 275us/sample - loss: 0.4122 - accuracy: 0.8264 - val_loss: 0.5424 - val_accuracy: 0.7160\n",
      "Epoch 32/40\n",
      "720/720 [==============================] - 0s 259us/sample - loss: 0.4144 - accuracy: 0.8181 - val_loss: 0.4948 - val_accuracy: 0.7901\n",
      "Epoch 33/40\n",
      "720/720 [==============================] - 0s 246us/sample - loss: 0.4104 - accuracy: 0.8181 - val_loss: 0.5473 - val_accuracy: 0.7160\n",
      "Epoch 34/40\n",
      "720/720 [==============================] - 0s 254us/sample - loss: 0.4191 - accuracy: 0.8222 - val_loss: 0.5193 - val_accuracy: 0.7160\n",
      "Epoch 35/40\n",
      "720/720 [==============================] - 0s 267us/sample - loss: 0.4158 - accuracy: 0.8208 - val_loss: 0.4927 - val_accuracy: 0.7901\n",
      "Epoch 36/40\n",
      "720/720 [==============================] - 0s 270us/sample - loss: 0.4110 - accuracy: 0.8194 - val_loss: 0.5012 - val_accuracy: 0.7407\n",
      "Epoch 37/40\n",
      "720/720 [==============================] - 0s 262us/sample - loss: 0.4103 - accuracy: 0.8208 - val_loss: 0.5021 - val_accuracy: 0.7407\n",
      "Epoch 38/40\n",
      "720/720 [==============================] - 0s 276us/sample - loss: 0.4107 - accuracy: 0.8153 - val_loss: 0.4984 - val_accuracy: 0.7407\n",
      "Epoch 39/40\n",
      "720/720 [==============================] - 0s 249us/sample - loss: 0.4089 - accuracy: 0.8167 - val_loss: 0.5096 - val_accuracy: 0.7407\n",
      "Epoch 40/40\n",
      "720/720 [==============================] - 0s 273us/sample - loss: 0.4085 - accuracy: 0.8153 - val_loss: 0.5289 - val_accuracy: 0.7160\n",
      "Accuracy porcentage 81.27%\n",
      "Accuracy porcentage 76.67%\n",
      "Train on 720 samples, validate on 81 samples\n",
      "Epoch 1/40\n",
      "720/720 [==============================] - 1s 962us/sample - loss: 0.5106 - accuracy: 0.7764 - val_loss: 0.4773 - val_accuracy: 0.7901\n",
      "Epoch 2/40\n",
      "720/720 [==============================] - 0s 311us/sample - loss: 0.4513 - accuracy: 0.7958 - val_loss: 0.4702 - val_accuracy: 0.8025\n",
      "Epoch 3/40\n",
      "720/720 [==============================] - 0s 300us/sample - loss: 0.4525 - accuracy: 0.8125 - val_loss: 0.4881 - val_accuracy: 0.7778\n",
      "Epoch 4/40\n",
      "720/720 [==============================] - 0s 303us/sample - loss: 0.4357 - accuracy: 0.8042 - val_loss: 0.5004 - val_accuracy: 0.8025\n",
      "Epoch 5/40\n"
     ]
    },
    {
     "name": "stdout",
     "output_type": "stream",
     "text": [
      "720/720 [==============================] - 0s 307us/sample - loss: 0.4304 - accuracy: 0.8042 - val_loss: 0.5068 - val_accuracy: 0.7037\n",
      "Epoch 6/40\n",
      "720/720 [==============================] - 0s 298us/sample - loss: 0.4354 - accuracy: 0.8083 - val_loss: 0.4922 - val_accuracy: 0.7901\n",
      "Epoch 7/40\n",
      "720/720 [==============================] - 0s 302us/sample - loss: 0.4300 - accuracy: 0.8042 - val_loss: 0.5388 - val_accuracy: 0.6914\n",
      "Epoch 8/40\n",
      "720/720 [==============================] - 0s 283us/sample - loss: 0.4307 - accuracy: 0.8028 - val_loss: 0.4918 - val_accuracy: 0.7778\n",
      "Epoch 9/40\n",
      "720/720 [==============================] - 0s 296us/sample - loss: 0.4297 - accuracy: 0.8167 - val_loss: 0.5118 - val_accuracy: 0.7037\n",
      "Epoch 10/40\n",
      "720/720 [==============================] - 0s 295us/sample - loss: 0.4389 - accuracy: 0.8083 - val_loss: 0.4915 - val_accuracy: 0.7901\n",
      "Epoch 11/40\n",
      "720/720 [==============================] - 0s 297us/sample - loss: 0.4315 - accuracy: 0.8028 - val_loss: 0.5147 - val_accuracy: 0.6790\n",
      "Epoch 12/40\n",
      "720/720 [==============================] - 0s 292us/sample - loss: 0.4276 - accuracy: 0.8153 - val_loss: 0.4965 - val_accuracy: 0.7160\n",
      "Epoch 13/40\n",
      "720/720 [==============================] - 0s 292us/sample - loss: 0.4276 - accuracy: 0.8083 - val_loss: 0.5358 - val_accuracy: 0.6790\n",
      "Epoch 14/40\n",
      "720/720 [==============================] - 0s 297us/sample - loss: 0.4262 - accuracy: 0.8097 - val_loss: 0.5283 - val_accuracy: 0.6914\n",
      "Epoch 15/40\n",
      "720/720 [==============================] - 0s 302us/sample - loss: 0.4280 - accuracy: 0.8097 - val_loss: 0.5196 - val_accuracy: 0.7160\n",
      "Epoch 16/40\n",
      "720/720 [==============================] - 0s 300us/sample - loss: 0.4296 - accuracy: 0.8167 - val_loss: 0.5243 - val_accuracy: 0.7160\n",
      "Epoch 17/40\n",
      "720/720 [==============================] - 0s 288us/sample - loss: 0.4246 - accuracy: 0.8083 - val_loss: 0.5124 - val_accuracy: 0.7160\n",
      "Epoch 18/40\n",
      "720/720 [==============================] - 0s 301us/sample - loss: 0.4294 - accuracy: 0.8139 - val_loss: 0.5147 - val_accuracy: 0.7407\n",
      "Epoch 19/40\n",
      "720/720 [==============================] - 0s 296us/sample - loss: 0.4250 - accuracy: 0.8139 - val_loss: 0.4902 - val_accuracy: 0.8025\n",
      "Epoch 20/40\n",
      "720/720 [==============================] - 0s 287us/sample - loss: 0.4183 - accuracy: 0.8167 - val_loss: 0.4929 - val_accuracy: 0.8025\n",
      "Epoch 21/40\n",
      "720/720 [==============================] - 0s 291us/sample - loss: 0.4283 - accuracy: 0.8056 - val_loss: 0.5607 - val_accuracy: 0.6914\n",
      "Epoch 22/40\n",
      "720/720 [==============================] - 0s 304us/sample - loss: 0.4242 - accuracy: 0.8194 - val_loss: 0.4755 - val_accuracy: 0.8025\n",
      "Epoch 23/40\n",
      "720/720 [==============================] - 0s 288us/sample - loss: 0.4185 - accuracy: 0.8278 - val_loss: 0.5406 - val_accuracy: 0.7160\n",
      "Epoch 24/40\n",
      "720/720 [==============================] - 0s 313us/sample - loss: 0.4187 - accuracy: 0.8194 - val_loss: 0.5270 - val_accuracy: 0.7160\n",
      "Epoch 25/40\n",
      "720/720 [==============================] - 0s 307us/sample - loss: 0.4207 - accuracy: 0.8083 - val_loss: 0.5037 - val_accuracy: 0.7407\n",
      "Epoch 26/40\n",
      "720/720 [==============================] - 0s 307us/sample - loss: 0.4175 - accuracy: 0.8111 - val_loss: 0.4805 - val_accuracy: 0.8025\n",
      "Epoch 27/40\n",
      "720/720 [==============================] - 0s 384us/sample - loss: 0.4268 - accuracy: 0.8139 - val_loss: 0.5224 - val_accuracy: 0.7160\n",
      "Epoch 28/40\n",
      "720/720 [==============================] - 0s 449us/sample - loss: 0.4186 - accuracy: 0.8125 - val_loss: 0.4919 - val_accuracy: 0.7901\n",
      "Epoch 29/40\n",
      "720/720 [==============================] - 0s 420us/sample - loss: 0.4151 - accuracy: 0.8194 - val_loss: 0.5411 - val_accuracy: 0.7160\n",
      "Epoch 30/40\n",
      "720/720 [==============================] - 0s 311us/sample - loss: 0.4136 - accuracy: 0.8125 - val_loss: 0.5326 - val_accuracy: 0.7160\n",
      "Epoch 31/40\n",
      "720/720 [==============================] - 0s 377us/sample - loss: 0.4181 - accuracy: 0.8208 - val_loss: 0.5905 - val_accuracy: 0.7037\n",
      "Epoch 32/40\n",
      "720/720 [==============================] - 0s 329us/sample - loss: 0.4224 - accuracy: 0.8097 - val_loss: 0.5105 - val_accuracy: 0.7160\n",
      "Epoch 33/40\n",
      "720/720 [==============================] - 0s 327us/sample - loss: 0.4194 - accuracy: 0.8125 - val_loss: 0.5086 - val_accuracy: 0.7407\n",
      "Epoch 34/40\n",
      "720/720 [==============================] - 0s 338us/sample - loss: 0.4132 - accuracy: 0.8167 - val_loss: 0.5265 - val_accuracy: 0.7160\n",
      "Epoch 35/40\n",
      "720/720 [==============================] - 0s 300us/sample - loss: 0.4183 - accuracy: 0.8069 - val_loss: 0.5075 - val_accuracy: 0.7284\n",
      "Epoch 36/40\n",
      "720/720 [==============================] - 0s 305us/sample - loss: 0.4158 - accuracy: 0.8139 - val_loss: 0.4947 - val_accuracy: 0.7407\n",
      "Epoch 37/40\n",
      "720/720 [==============================] - 0s 304us/sample - loss: 0.4134 - accuracy: 0.8153 - val_loss: 0.4837 - val_accuracy: 0.8025\n",
      "Epoch 38/40\n",
      "720/720 [==============================] - 0s 316us/sample - loss: 0.4195 - accuracy: 0.8194 - val_loss: 0.4713 - val_accuracy: 0.8025\n",
      "Epoch 39/40\n",
      "720/720 [==============================] - 0s 306us/sample - loss: 0.4134 - accuracy: 0.8194 - val_loss: 0.5206 - val_accuracy: 0.7407\n",
      "Epoch 40/40\n",
      "720/720 [==============================] - 0s 301us/sample - loss: 0.4174 - accuracy: 0.8125 - val_loss: 0.5594 - val_accuracy: 0.7160\n",
      "Accuracy porcentage 81.02%\n",
      "Accuracy porcentage 78.89%\n",
      "Train on 720 samples, validate on 81 samples\n",
      "Epoch 1/40\n",
      "720/720 [==============================] - 1s 996us/sample - loss: 0.5049 - accuracy: 0.7889 - val_loss: 0.4840 - val_accuracy: 0.7778\n",
      "Epoch 2/40\n",
      "720/720 [==============================] - 0s 318us/sample - loss: 0.4588 - accuracy: 0.7806 - val_loss: 0.4956 - val_accuracy: 0.7778\n",
      "Epoch 3/40\n",
      "720/720 [==============================] - 0s 333us/sample - loss: 0.4430 - accuracy: 0.8014 - val_loss: 0.4888 - val_accuracy: 0.7901\n",
      "Epoch 4/40\n",
      "720/720 [==============================] - 0s 356us/sample - loss: 0.4413 - accuracy: 0.7972 - val_loss: 0.5190 - val_accuracy: 0.6790\n",
      "Epoch 5/40\n",
      "720/720 [==============================] - 0s 331us/sample - loss: 0.4383 - accuracy: 0.8042 - val_loss: 0.5174 - val_accuracy: 0.6914\n",
      "Epoch 6/40\n",
      "720/720 [==============================] - 0s 398us/sample - loss: 0.4362 - accuracy: 0.8042 - val_loss: 0.5110 - val_accuracy: 0.7037\n",
      "Epoch 7/40\n",
      "720/720 [==============================] - 0s 434us/sample - loss: 0.4376 - accuracy: 0.8083 - val_loss: 0.4820 - val_accuracy: 0.7778\n",
      "Epoch 8/40\n",
      "720/720 [==============================] - 0s 427us/sample - loss: 0.4305 - accuracy: 0.8153 - val_loss: 0.5351 - val_accuracy: 0.6790\n",
      "Epoch 9/40\n",
      "720/720 [==============================] - 0s 341us/sample - loss: 0.4328 - accuracy: 0.8042 - val_loss: 0.5132 - val_accuracy: 0.7160\n",
      "Epoch 10/40\n",
      "720/720 [==============================] - 0s 348us/sample - loss: 0.4323 - accuracy: 0.7972 - val_loss: 0.5416 - val_accuracy: 0.6914\n",
      "Epoch 11/40\n",
      "720/720 [==============================] - 0s 407us/sample - loss: 0.4276 - accuracy: 0.8028 - val_loss: 0.5138 - val_accuracy: 0.7160\n",
      "Epoch 12/40\n",
      "720/720 [==============================] - 0s 322us/sample - loss: 0.4286 - accuracy: 0.8111 - val_loss: 0.4759 - val_accuracy: 0.8148\n",
      "Epoch 13/40\n",
      "720/720 [==============================] - 0s 350us/sample - loss: 0.4264 - accuracy: 0.8042 - val_loss: 0.5371 - val_accuracy: 0.6790\n",
      "Epoch 14/40\n",
      "720/720 [==============================] - 0s 340us/sample - loss: 0.4290 - accuracy: 0.8167 - val_loss: 0.5399 - val_accuracy: 0.7037\n",
      "Epoch 15/40\n",
      "720/720 [==============================] - 0s 323us/sample - loss: 0.4260 - accuracy: 0.8125 - val_loss: 0.5193 - val_accuracy: 0.7160\n",
      "Epoch 16/40\n",
      "720/720 [==============================] - 0s 446us/sample - loss: 0.4246 - accuracy: 0.8083 - val_loss: 0.5292 - val_accuracy: 0.7160\n",
      "Epoch 17/40\n",
      "720/720 [==============================] - 0s 328us/sample - loss: 0.4338 - accuracy: 0.8069 - val_loss: 0.5109 - val_accuracy: 0.7284\n",
      "Epoch 18/40\n",
      "720/720 [==============================] - 0s 330us/sample - loss: 0.4272 - accuracy: 0.8083 - val_loss: 0.4902 - val_accuracy: 0.8025\n",
      "Epoch 19/40\n",
      "720/720 [==============================] - 0s 325us/sample - loss: 0.4226 - accuracy: 0.8167 - val_loss: 0.5011 - val_accuracy: 0.7407\n",
      "Epoch 20/40\n"
     ]
    },
    {
     "name": "stdout",
     "output_type": "stream",
     "text": [
      "720/720 [==============================] - 0s 322us/sample - loss: 0.4222 - accuracy: 0.8167 - val_loss: 0.4882 - val_accuracy: 0.8148\n",
      "Epoch 21/40\n",
      "720/720 [==============================] - 0s 319us/sample - loss: 0.4301 - accuracy: 0.8042 - val_loss: 0.4814 - val_accuracy: 0.8148\n",
      "Epoch 22/40\n",
      "720/720 [==============================] - 0s 316us/sample - loss: 0.4178 - accuracy: 0.8181 - val_loss: 0.4990 - val_accuracy: 0.7901\n",
      "Epoch 23/40\n",
      "720/720 [==============================] - 0s 317us/sample - loss: 0.4207 - accuracy: 0.8153 - val_loss: 0.5179 - val_accuracy: 0.7160\n",
      "Epoch 24/40\n",
      "720/720 [==============================] - 0s 317us/sample - loss: 0.4165 - accuracy: 0.8167 - val_loss: 0.4751 - val_accuracy: 0.8148\n",
      "Epoch 25/40\n",
      "720/720 [==============================] - 0s 318us/sample - loss: 0.4242 - accuracy: 0.8181 - val_loss: 0.5305 - val_accuracy: 0.7160\n",
      "Epoch 26/40\n",
      "720/720 [==============================] - 0s 315us/sample - loss: 0.4169 - accuracy: 0.8139 - val_loss: 0.4805 - val_accuracy: 0.8395\n",
      "Epoch 27/40\n",
      "720/720 [==============================] - 0s 318us/sample - loss: 0.4350 - accuracy: 0.8181 - val_loss: 0.4766 - val_accuracy: 0.8025\n",
      "Epoch 28/40\n",
      "720/720 [==============================] - 0s 321us/sample - loss: 0.4196 - accuracy: 0.8153 - val_loss: 0.4975 - val_accuracy: 0.7901\n",
      "Epoch 29/40\n",
      "720/720 [==============================] - 0s 313us/sample - loss: 0.4146 - accuracy: 0.8069 - val_loss: 0.5189 - val_accuracy: 0.7160\n",
      "Epoch 30/40\n",
      "720/720 [==============================] - 0s 319us/sample - loss: 0.4151 - accuracy: 0.8139 - val_loss: 0.5241 - val_accuracy: 0.7037\n",
      "Epoch 31/40\n",
      "720/720 [==============================] - 0s 309us/sample - loss: 0.4198 - accuracy: 0.8181 - val_loss: 0.4727 - val_accuracy: 0.8148\n",
      "Epoch 32/40\n",
      "720/720 [==============================] - 0s 322us/sample - loss: 0.4312 - accuracy: 0.8167 - val_loss: 0.5093 - val_accuracy: 0.7160\n",
      "Epoch 33/40\n",
      "720/720 [==============================] - 0s 315us/sample - loss: 0.4148 - accuracy: 0.8194 - val_loss: 0.5169 - val_accuracy: 0.7160\n",
      "Epoch 34/40\n",
      "720/720 [==============================] - 0s 313us/sample - loss: 0.4129 - accuracy: 0.8167 - val_loss: 0.5064 - val_accuracy: 0.7407\n",
      "Epoch 35/40\n",
      "720/720 [==============================] - 0s 318us/sample - loss: 0.4118 - accuracy: 0.8125 - val_loss: 0.5134 - val_accuracy: 0.7284\n",
      "Epoch 36/40\n",
      "720/720 [==============================] - 0s 312us/sample - loss: 0.4098 - accuracy: 0.8236 - val_loss: 0.5137 - val_accuracy: 0.7407\n",
      "Epoch 37/40\n",
      "720/720 [==============================] - 0s 320us/sample - loss: 0.4099 - accuracy: 0.8194 - val_loss: 0.5019 - val_accuracy: 0.7407\n",
      "Epoch 38/40\n",
      "720/720 [==============================] - 0s 318us/sample - loss: 0.4091 - accuracy: 0.8181 - val_loss: 0.4884 - val_accuracy: 0.7901\n",
      "Epoch 39/40\n",
      "720/720 [==============================] - 0s 316us/sample - loss: 0.4103 - accuracy: 0.8167 - val_loss: 0.5094 - val_accuracy: 0.7407\n",
      "Epoch 40/40\n",
      "720/720 [==============================] - 0s 317us/sample - loss: 0.4131 - accuracy: 0.8181 - val_loss: 0.4862 - val_accuracy: 0.8272\n",
      "Accuracy porcentage 82.9%\n",
      "Accuracy porcentage 78.89%\n"
     ]
    }
   ],
   "source": [
    "v ={}\n",
    "# n (number of neurons defined in the function above).\n",
    "for n in range(200,301,20):\n",
    "    # Can varied the epochs\n",
    "    for epochs in range (40,41,1):\n",
    "        \n",
    "        #Apply Model and Training functions\n",
    "        model = creat_model(n)\n",
    "        history= treinar(model,epochs)\n",
    "        \n",
    "        #v [0] = Percentage of correct training data\n",
    "        #v [1] = Percentage of correct validation data\n",
    "        #v [2] = History (used to make the plot)\n",
    "        #v [3] = Model (used to choose which trained model I will apply)\n",
    "        v[str(n)+'_'+str(epochs)] = [predict(X_train,y_train,model),predict(X_val,y_val,model),history,model]"
   ]
  },
  {
   "cell_type": "code",
   "execution_count": 40,
   "metadata": {
    "scrolled": false
   },
   "outputs": [
    {
     "name": "stdout",
     "output_type": "stream",
     "text": [
      "200_40\n",
      "Accuracy porcentage 81.71%\n",
      "220_40\n",
      "Accuracy porcentage 81.48%\n",
      "240_40\n",
      "Accuracy porcentage 81.03%\n",
      "260_40\n",
      "Accuracy porcentage 80.81%\n",
      "280_40\n",
      "Accuracy porcentage 80.81%\n",
      "300_40\n",
      "Accuracy porcentage 82.49%\n"
     ]
    }
   ],
   "source": [
    "for k in v.keys():\n",
    "    print(k)\n",
    "    predict(X,y_comparar_fim,v[k][3])\n",
    "    \n",
    "# neuron_epochs"
   ]
  },
  {
   "cell_type": "code",
   "execution_count": 41,
   "metadata": {
    "scrolled": true
   },
   "outputs": [
    {
     "data": {
      "image/png": "[encoded data removed]",
      "text/plain": [
       "<Figure size 432x288 with 1 Axes>"
      ]
     },
     "metadata": {
      "needs_background": "light"
     },
     "output_type": "display_data"
    },
    {
     "data": {
      "image/png": "[encoded data removed]",
      "text/plain": [
       "<Figure size 432x288 with 1 Axes>"
      ]
     },
     "metadata": {
      "needs_background": "light"
     },
     "output_type": "display_data"
    }
   ],
   "source": [
    "# Example of accuracy and loss data depending on the epochs\n",
    "plot(v['300_40'][2])"
   ]
  },
  {
   "cell_type": "markdown",
   "metadata": {},
   "source": [
    "### Test Data Predictions"
   ]
  },
  {
   "cell_type": "markdown",
   "metadata": {},
   "source": [
    "Import the test data"
   ]
  },
  {
   "cell_type": "code",
   "execution_count": 42,
   "metadata": {},
   "outputs": [],
   "source": [
    "dados_test = pd.read_csv('./test.csv')\n",
    "\n",
    "dados_x_test = dados_test[UTILIZADOS[1:]]# take out survived "
   ]
  },
  {
   "cell_type": "code",
   "execution_count": 43,
   "metadata": {
    "scrolled": true
   },
   "outputs": [
    {
     "data": {
      "text/html": [
       "<div>\n",
       "<style scoped>\n",
       "    .dataframe tbody tr th:only-of-type {\n",
       "        vertical-align: middle;\n",
       "    }\n",
       "\n",
       "    .dataframe tbody tr th {\n",
       "        vertical-align: top;\n",
       "    }\n",
       "\n",
       "    .dataframe thead th {\n",
       "        text-align: right;\n",
       "    }\n",
       "</style>\n",
       "<table border=\"1\" class=\"dataframe\">\n",
       "  <thead>\n",
       "    <tr style=\"text-align: right;\">\n",
       "      <th></th>\n",
       "      <th>Pclass</th>\n",
       "      <th>Sex</th>\n",
       "      <th>Age</th>\n",
       "      <th>Fare</th>\n",
       "    </tr>\n",
       "  </thead>\n",
       "  <tbody>\n",
       "    <tr>\n",
       "      <th>0</th>\n",
       "      <td>3</td>\n",
       "      <td>male</td>\n",
       "      <td>34.5</td>\n",
       "      <td>7.8292</td>\n",
       "    </tr>\n",
       "    <tr>\n",
       "      <th>1</th>\n",
       "      <td>3</td>\n",
       "      <td>female</td>\n",
       "      <td>47.0</td>\n",
       "      <td>7.0000</td>\n",
       "    </tr>\n",
       "    <tr>\n",
       "      <th>2</th>\n",
       "      <td>2</td>\n",
       "      <td>male</td>\n",
       "      <td>62.0</td>\n",
       "      <td>9.6875</td>\n",
       "    </tr>\n",
       "    <tr>\n",
       "      <th>3</th>\n",
       "      <td>3</td>\n",
       "      <td>male</td>\n",
       "      <td>27.0</td>\n",
       "      <td>8.6625</td>\n",
       "    </tr>\n",
       "    <tr>\n",
       "      <th>4</th>\n",
       "      <td>3</td>\n",
       "      <td>female</td>\n",
       "      <td>22.0</td>\n",
       "      <td>12.2875</td>\n",
       "    </tr>\n",
       "  </tbody>\n",
       "</table>\n",
       "</div>"
      ],
      "text/plain": [
       "   Pclass     Sex   Age     Fare\n",
       "0       3    male  34.5   7.8292\n",
       "1       3  female  47.0   7.0000\n",
       "2       2    male  62.0   9.6875\n",
       "3       3    male  27.0   8.6625\n",
       "4       3  female  22.0  12.2875"
      ]
     },
     "execution_count": 43,
     "metadata": {},
     "output_type": "execute_result"
    }
   ],
   "source": [
    "# Check\n",
    "dados_x_test.head()"
   ]
  },
  {
   "cell_type": "markdown",
   "metadata": {},
   "source": [
    "Turn sex column in number"
   ]
  },
  {
   "cell_type": "code",
   "execution_count": 44,
   "metadata": {
    "scrolled": false
   },
   "outputs": [
    {
     "name": "stderr",
     "output_type": "stream",
     "text": [
      "/usr/local/lib/python3.6/dist-packages/ipykernel_launcher.py:1: SettingWithCopyWarning: \n",
      "A value is trying to be set on a copy of a slice from a DataFrame.\n",
      "Try using .loc[row_indexer,col_indexer] = value instead\n",
      "\n",
      "See the caveats in the documentation: http://pandas.pydata.org/pandas-docs/stable/indexing.html#indexing-view-versus-copy\n",
      "  \"\"\"Entry point for launching an IPython kernel.\n"
     ]
    }
   ],
   "source": [
    "dados_x_test['Sex'] = dados_x_test['Sex'].apply(sex)"
   ]
  },
  {
   "cell_type": "markdown",
   "metadata": {},
   "source": [
    "Check for Null values"
   ]
  },
  {
   "cell_type": "code",
   "execution_count": 45,
   "metadata": {
    "scrolled": false
   },
   "outputs": [
    {
     "data": {
      "image/png": "[encoded data removed]",
      "text/plain": [
       "<Figure size 432x288 with 1 Axes>"
      ]
     },
     "metadata": {
      "needs_background": "light"
     },
     "output_type": "display_data"
    }
   ],
   "source": [
    "sns.heatmap(dados_x_test.isnull(),cbar=False);"
   ]
  },
  {
   "cell_type": "markdown",
   "metadata": {},
   "source": [
    "Again, using classes, we will try to predict people's ages through the median using the boxplot"
   ]
  },
  {
   "cell_type": "code",
   "execution_count": 46,
   "metadata": {
    "scrolled": true
   },
   "outputs": [
    {
     "data": {
      "image/png": "[encoded data removed]",
      "text/plain": [
       "<Figure size 432x288 with 1 Axes>"
      ]
     },
     "metadata": {
      "needs_background": "light"
     },
     "output_type": "display_data"
    }
   ],
   "source": [
    "sns.boxplot(x='Pclass', y='Age', data = dados_x_test);\n",
    "plt.grid()"
   ]
  },
  {
   "cell_type": "markdown",
   "metadata": {},
   "source": [
    "As the data has changed, you must again create a function to replace the nulls"
   ]
  },
  {
   "cell_type": "code",
   "execution_count": 47,
   "metadata": {
    "scrolled": false
   },
   "outputs": [
    {
     "name": "stderr",
     "output_type": "stream",
     "text": [
      "/usr/local/lib/python3.6/dist-packages/ipykernel_launcher.py:16: SettingWithCopyWarning: \n",
      "A value is trying to be set on a copy of a slice from a DataFrame.\n",
      "Try using .loc[row_indexer,col_indexer] = value instead\n",
      "\n",
      "See the caveats in the documentation: http://pandas.pydata.org/pandas-docs/stable/indexing.html#indexing-view-versus-copy\n",
      "  app.launch_new_instance()\n"
     ]
    }
   ],
   "source": [
    "def age_new(x):\n",
    "    age = x[0]\n",
    "    pclass = x[1]\n",
    "    \n",
    "    if np.isnan(age) == True:\n",
    "        \n",
    "        if pclass == 1:\n",
    "            return 42\n",
    "        elif pclass == 2:\n",
    "            return 27\n",
    "        elif pclass == 3:\n",
    "            return 24\n",
    "    else:\n",
    "        return age\n",
    "    \n",
    "dados_x_test['Age'] = dados_x_test[['Age','Pclass']].apply(age_new,axis=1)"
   ]
  },
  {
   "cell_type": "markdown",
   "metadata": {},
   "source": [
    "Normalize"
   ]
  },
  {
   "cell_type": "code",
   "execution_count": 48,
   "metadata": {},
   "outputs": [],
   "source": [
    "dados_x_test = scaler.fit_transform(dados_x_test)"
   ]
  },
  {
   "cell_type": "markdown",
   "metadata": {},
   "source": [
    "Selecting the best model predicted"
   ]
  },
  {
   "cell_type": "code",
   "execution_count": 49,
   "metadata": {},
   "outputs": [],
   "source": [
    "prev_env = v['300_40'][3].predict(dados_x_test)"
   ]
  },
  {
   "cell_type": "markdown",
   "metadata": {},
   "source": [
    "Adding predictions to a DataFrame"
   ]
  },
  {
   "cell_type": "code",
   "execution_count": 50,
   "metadata": {},
   "outputs": [],
   "source": [
    "dados_env = pd.DataFrame()\n",
    "dados_env['PassengerId'] = dados_test['PassengerId']\n",
    "dados_env['Survived'] = prev_env[:,0]"
   ]
  },
  {
   "cell_type": "markdown",
   "metadata": {},
   "source": [
    "Apply condition 0 and 1"
   ]
  },
  {
   "cell_type": "code",
   "execution_count": 51,
   "metadata": {},
   "outputs": [],
   "source": [
    "dados_env['Survived'] = dados_env['Survived'].apply(cond)"
   ]
  },
  {
   "cell_type": "code",
   "execution_count": 52,
   "metadata": {},
   "outputs": [],
   "source": [
    "#Salve data\n",
    "dados_env.to_csv('./Titanic_Predictions.csv',index=False)"
   ]
  }
 ],
 "metadata": {
  "kernelspec": {
   "display_name": "Python 3",
   "language": "python",
   "name": "python3"
  },
  "language_info": {
   "codemirror_mode": {
    "name": "ipython",
    "version": 3
   },
   "file_extension": ".py",
   "mimetype": "text/x-python",
   "name": "python",
   "nbconvert_exporter": "python",
   "pygments_lexer": "ipython3",
   "version": "3.6.8"
  }
 },
 "nbformat": 4,
 "nbformat_minor": 2
}
